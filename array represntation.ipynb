{
 "cells": [
  {
   "cell_type": "code",
   "execution_count": 3,
   "id": "dc852717",
   "metadata": {},
   "outputs": [
    {
     "data": {
      "text/plain": [
       "array([[[226, 255, 253],\n",
       "        [211, 245, 239],\n",
       "        [204, 245, 238],\n",
       "        ...,\n",
       "        [202, 243, 236],\n",
       "        [217, 251, 245],\n",
       "        [230, 255, 255]],\n",
       "\n",
       "       [[202, 234, 229],\n",
       "        [185, 221, 215],\n",
       "        [180, 221, 214],\n",
       "        ...,\n",
       "        [193, 234, 227],\n",
       "        [208, 242, 236],\n",
       "        [224, 254, 249]],\n",
       "\n",
       "       [[204, 238, 232],\n",
       "        [185, 223, 217],\n",
       "        [182, 224, 217],\n",
       "        ...,\n",
       "        [190, 231, 224],\n",
       "        [205, 239, 233],\n",
       "        [221, 251, 246]],\n",
       "\n",
       "       ...,\n",
       "\n",
       "       [[207, 241, 235],\n",
       "        [206, 240, 234],\n",
       "        [201, 237, 231],\n",
       "        ...,\n",
       "        [205, 235, 230],\n",
       "        [217, 240, 236],\n",
       "        [226, 247, 244]],\n",
       "\n",
       "       [[220, 245, 241],\n",
       "        [216, 243, 239],\n",
       "        [212, 242, 237],\n",
       "        ...,\n",
       "        [216, 241, 237],\n",
       "        [225, 244, 241],\n",
       "        [233, 250, 247]],\n",
       "\n",
       "       [[234, 253, 250],\n",
       "        [230, 251, 248],\n",
       "        [227, 248, 245],\n",
       "        ...,\n",
       "        [229, 250, 247],\n",
       "        [234, 251, 248],\n",
       "        [238, 252, 250]]], dtype=uint8)"
      ]
     },
     "execution_count": 3,
     "metadata": {},
     "output_type": "execute_result"
    }
   ],
   "source": [
    "import cv2\n",
    "import numpy as np\n",
    "image_path='C:/Users/User/Downloads/avocado.jpg'\n",
    "image=cv2.imread(image_path)\n",
    "image_matrix=np.array(image)\n",
    "(image_matrix)"
   ]
  },
  {
   "cell_type": "code",
   "execution_count": null,
   "id": "ece07f6b",
   "metadata": {},
   "outputs": [],
   "source": []
  }
 ],
 "metadata": {
  "kernelspec": {
   "display_name": "Python 3 (ipykernel)",
   "language": "python",
   "name": "python3"
  },
  "language_info": {
   "codemirror_mode": {
    "name": "ipython",
    "version": 3
   },
   "file_extension": ".py",
   "mimetype": "text/x-python",
   "name": "python",
   "nbconvert_exporter": "python",
   "pygments_lexer": "ipython3",
   "version": "3.9.7"
  }
 },
 "nbformat": 4,
 "nbformat_minor": 5
}
