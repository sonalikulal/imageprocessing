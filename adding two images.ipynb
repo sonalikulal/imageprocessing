{
 "cells": [
  {
   "cell_type": "code",
   "execution_count": 6,
   "id": "72678374",
   "metadata": {},
   "outputs": [
    {
     "name": "stderr",
     "output_type": "stream",
     "text": [
      "C:\\Users\\User\\AppData\\Local\\Temp/ipykernel_19644/2248635787.py:7: RuntimeWarning: invalid value encountered in true_divide\n",
      "  div=img/img2\n"
     ]
    }
   ],
   "source": [
    "import cv2\n",
    "img=cv2.imread('circle.png')\n",
    "img2=cv2.imread('star.png')\n",
    "add=img+img2\n",
    "sub=img-img2\n",
    "mul=img*img2\n",
    "div=img/img2\n",
    "cv2.imshow(\"additn\",add)\n",
    "cv2.imshow(\"subtrct\",sub)\n",
    "cv2.imshow(\"multiply\",mul)\n",
    "cv2.imshow(\"division\",div)\n",
    "cv2.waitKey(0)\n",
    "cv2.destroyAllWindows()"
   ]
  }
 ],
 "metadata": {
  "kernelspec": {
   "display_name": "Python 3 (ipykernel)",
   "language": "python",
   "name": "python3"
  },
  "language_info": {
   "codemirror_mode": {
    "name": "ipython",
    "version": 3
   },
   "file_extension": ".py",
   "mimetype": "text/x-python",
   "name": "python",
   "nbconvert_exporter": "python",
   "pygments_lexer": "ipython3",
   "version": "3.9.7"
  }
 },
 "nbformat": 4,
 "nbformat_minor": 5
}
