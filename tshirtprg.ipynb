{
 "cells": [
  {
   "cell_type": "code",
   "execution_count": null,
   "id": "e06165b2",
   "metadata": {},
   "outputs": [],
   "source": [
    "import cv2\n",
    "im=cv2.imread(\"tshirt.jpg\")\n",
    "im1=cv2.imread(\"tshirt.jpg\")\n",
    "cv2.putText(im,\"N\",(370,340),2,1,(90,90,90),cv2.LINE_4)\n",
    "cv2.putText(im,\"I\",(400,340),2,1,(90,90,90),cv2.LINE_4)\n",
    "cv2.putText(im,\"K\",(410,340),2,1,(90,90,90),cv2.LINE_4)\n",
    "cv2.putText(im,\"E\",(440,340),2,1,(90,90,90),cv2.LINE_4)\n",
    "\n",
    "cv2.putText(im,\"N\",(370,340),2,1,(254,0,0),cv2.LINE_4)\n",
    "cv2.putText(im,\"I\",(400,340),2,1,(254,0,0),cv2.LINE_4)\n",
    "cv2.putText(im,\"K\",(410,340),2,1,(254,0,0),cv2.LINE_4)\n",
    "cv2.putText(im,\"E\",(440,340),2,1,(254,0,0),cv2.LINE_4)\n",
    "\n",
    "extract=cv2.subtract(im1,im)\n",
    "ksize=(3,3)\n",
    "blur=cv2.blur(extract,ksize)\n",
    "final=cv2.subtract(im1,blur)\n",
    "cv2.imshow(\"sonu\",final)\n",
    "cv2.imshow(\"sonu2\",ksize)\n",
    "cv2.imshow(\"sonu3\",blur)\n",
    "cv2.waitKey(0)\n",
    "cv2.destroyAllWindows()"
   ]
  }
 ],
 "metadata": {
  "kernelspec": {
   "display_name": "Python 3 (ipykernel)",
   "language": "python",
   "name": "python3"
  },
  "language_info": {
   "codemirror_mode": {
    "name": "ipython",
    "version": 3
   },
   "file_extension": ".py",
   "mimetype": "text/x-python",
   "name": "python",
   "nbconvert_exporter": "python",
   "pygments_lexer": "ipython3",
   "version": "3.9.7"
  }
 },
 "nbformat": 4,
 "nbformat_minor": 5
}
