{
 "cells": [
  {
   "cell_type": "code",
   "execution_count": 4,
   "id": "a18bbf03",
   "metadata": {},
   "outputs": [],
   "source": [
    "#Import packages\n",
    "import cv2\n",
    "#Read image\n",
    "src = cv2.imread(\"doll.jpg\")\n",
    "cv2.imshow(\"original image\",src)\n",
    "cv2.waitKey(0)\n",
    "#Convert to grayscale\n",
    "src = cv2.cvtColor(src, cv2.COLOR_BGR2GRAY)\n",
    "cv2.imshow(\"grayscale image\",src)\n",
    "cv2.waitKey(0)\n",
    "#Apply equalize histogram\n",
    "src_eqlzd = cv2.equalizeHist(src) #Performs Histogram Equalization\n",
    "#Show both images\n",
    "cv2.imshow(\"histogram\",src_eqlzd)\n",
    "cv2.waitKey(0)\n",
    "cv2.destroyAllWindows()"
   ]
  },
  {
   "cell_type": "code",
   "execution_count": null,
   "id": "9c3bd106",
   "metadata": {},
   "outputs": [],
   "source": []
  }
 ],
 "metadata": {
  "kernelspec": {
   "display_name": "Python 3 (ipykernel)",
   "language": "python",
   "name": "python3"
  },
  "language_info": {
   "codemirror_mode": {
    "name": "ipython",
    "version": 3
   },
   "file_extension": ".py",
   "mimetype": "text/x-python",
   "name": "python",
   "nbconvert_exporter": "python",
   "pygments_lexer": "ipython3",
   "version": "3.9.7"
  }
 },
 "nbformat": 4,
 "nbformat_minor": 5
}
