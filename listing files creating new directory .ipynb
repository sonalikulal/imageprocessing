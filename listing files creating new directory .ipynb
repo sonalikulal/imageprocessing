{
 "cells": [
  {
   "cell_type": "code",
   "execution_count": 7,
   "id": "0820e7bf",
   "metadata": {},
   "outputs": [
    {
     "data": {
      "text/plain": [
       "'C:\\\\Users\\\\User\\\\imageprocessing04'"
      ]
     },
     "execution_count": 7,
     "metadata": {},
     "output_type": "execute_result"
    }
   ],
   "source": [
    "from PIL import Image\n",
    "import os\n",
    "os.getcwd()"
   ]
  },
  {
   "cell_type": "code",
   "execution_count": 8,
   "id": "cd52a4da",
   "metadata": {},
   "outputs": [
    {
     "data": {
      "text/plain": [
       "['.ipynb_checkpoints',\n",
       " '1-500x250-3.jpg',\n",
       " '2-500x250-2.jpg',\n",
       " 'adding noise clearing noise reducing noise.ipynb',\n",
       " 'apply Affine Transformation on an image in OpenCV Python.ipynb',\n",
       " 'cat.jpg',\n",
       " 'cat1111.jpg',\n",
       " 'catdam.jpg',\n",
       " 'cat_damaged.png',\n",
       " 'cat_inpainted.png',\n",
       " 'cat_mask (1).png',\n",
       " 'dot-300x168.jpg',\n",
       " 'drawing an image line rectangle circle.ipynb',\n",
       " 'feature extraction from image.ipynb',\n",
       " 'log transformation of an image.ipynb',\n",
       " 'maaaaask.png',\n",
       " 'mask.png',\n",
       " 'nature.jpg',\n",
       " 'noise_image.png',\n",
       " 'pepsi.png',\n",
       " 'sqlight.jpg',\n",
       " 'star-1-300x168.jpg',\n",
       " 'Untitled.ipynb']"
      ]
     },
     "execution_count": 8,
     "metadata": {},
     "output_type": "execute_result"
    }
   ],
   "source": [
    "#listing files in a directory\n",
    "os.listdir()"
   ]
  },
  {
   "cell_type": "code",
   "execution_count": 10,
   "id": "f44f7d1f",
   "metadata": {},
   "outputs": [],
   "source": [
    "# Creating new Directory using OS library\n",
    "os.mkdir('NewExtnsn')\n",
    "for f in os.listdir(\".\"):\n",
    "    if f.endswith(\".jpg\"):\n",
    "        i = Image.open(f)\n",
    "        fn, fext = os.path.splitext(f)\n",
    "        i.save(\"NewExtnsn/{}.pdf\".format(fn))"
   ]
  },
  {
   "cell_type": "code",
   "execution_count": 11,
   "id": "24c42d63",
   "metadata": {},
   "outputs": [],
   "source": [
    "# Creating new multiple Directories using OS library\n",
    "os.makedirs('resize//small')\n",
    "os.makedirs('resize//tiny')\n",
    "size_small = (600,600) # small images of 600 X 600 pixels\n",
    "size_tiny = (200,200) # tiny images of 200 X 200 pixels\n",
    "for f in os.listdir(\".\"):\n",
    "    if f.endswith(\".jpg\"):\n",
    "        i = Image.open(f)\n",
    "        fn, fext = os.path.splitext(f)\n",
    "        i.thumbnail(size_small)\n",
    "        i.save(\"resize/small/{}_small{}\".format(fn, fext))\n",
    "        i.thumbnail(size_tiny)\n",
    "        i.save(\"resize/tiny/{}_tiny{}\".format(fn, fext))"
   ]
  },
  {
   "cell_type": "code",
   "execution_count": 12,
   "id": "9b25d1b3",
   "metadata": {},
   "outputs": [],
   "source": [
    "# Creating new Directory using OS library\n",
    "os.mkdir('rotate')\n",
    "for f in os.listdir(\".\"):\n",
    "    if f.endswith(\".jpg\"):\n",
    "        i = Image.open(f)\n",
    "        fn, fext = os.path.splitext(f)\n",
    "        im = i.rotate(90)\n",
    "        im.save(\"rotate/{}_rot.{}\".format(fn, fext))"
   ]
  }
 ],
 "metadata": {
  "kernelspec": {
   "display_name": "Python 3 (ipykernel)",
   "language": "python",
   "name": "python3"
  },
  "language_info": {
   "codemirror_mode": {
    "name": "ipython",
    "version": 3
   },
   "file_extension": ".py",
   "mimetype": "text/x-python",
   "name": "python",
   "nbconvert_exporter": "python",
   "pygments_lexer": "ipython3",
   "version": "3.9.7"
  }
 },
 "nbformat": 4,
 "nbformat_minor": 5
}
