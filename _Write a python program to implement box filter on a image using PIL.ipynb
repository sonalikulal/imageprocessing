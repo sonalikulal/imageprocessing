{
 "cells": [
  {
   "cell_type": "code",
   "execution_count": 1,
   "id": "7363adbe",
   "metadata": {},
   "outputs": [],
   "source": [
    "#BOX BLUR\n",
    "#Import required Image library\n",
    "from PIL import Image, ImageFilter\n",
    "\n",
    "#Open existing image\n",
    "OriImage = Image.open('nature.jpg')\n",
    "OriImage.show()\n",
    "\n",
    "blurImage = OriImage.filter(ImageFilter.BoxBlur(4))\n",
    "blurImage.show()\n"
   ]
  }
 ],
 "metadata": {
  "kernelspec": {
   "display_name": "Python 3 (ipykernel)",
   "language": "python",
   "name": "python3"
  },
  "language_info": {
   "codemirror_mode": {
    "name": "ipython",
    "version": 3
   },
   "file_extension": ".py",
   "mimetype": "text/x-python",
   "name": "python",
   "nbconvert_exporter": "python",
   "pygments_lexer": "ipython3",
   "version": "3.9.7"
  }
 },
 "nbformat": 4,
 "nbformat_minor": 5
}
