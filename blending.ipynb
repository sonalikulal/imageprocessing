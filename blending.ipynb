{
 "cells": [
  {
   "cell_type": "code",
   "execution_count": 23,
   "id": "f98355d4",
   "metadata": {},
   "outputs": [
    {
     "name": "stdout",
     "output_type": "stream",
     "text": [
      "RGB (260, 194) JPEG\n"
     ]
    }
   ],
   "source": [
    "from PIL import Image\n",
    "\n",
    "Im=Image.open(\"C:/Users/User/Downloads/sun.jpg\")\n",
    "print(Im.mode,Im.size,Im.format)\n",
    "Im.show()\n",
    "              \n",
    "newIm=Image.new(\"RGBA\",(640,480),(255,0,0))\n",
    "Im2=Image.open(\"C:/Users/User/Downloads/moon.jpg\").convert(Im.mode)\n",
    "Im2=Im2.resize(Im.size)\n",
    "Im2.show()\n",
    "              \n",
    "img=Image.blend(Im,Im2,0.2)\n",
    "img.show()"
   ]
  },
  {
   "cell_type": "code",
   "execution_count": 67,
   "id": "18f191a8",
   "metadata": {},
   "outputs": [],
   "source": [
    "import cv2\n",
    "\n",
    "im1=cv2.imread(\"C:/Users/User/Downloads/sun.jpg\",1)\n",
    "im2=cv2.imread(\"C:/Users/User/Downloads/moon2.jpg\",1)\n",
    "\n",
    "im=cv2.addWeighted(im1,1,im1,9,0)\n",
    "cv2.imshow(\"im\",im)\n",
    "cv2.waitKey(0)\n",
    "cv2.destroyAllWindows()"
   ]
  },
  {
   "cell_type": "code",
   "execution_count": 63,
   "id": "4f67e0dc",
   "metadata": {},
   "outputs": [],
   "source": [
    "import cv2\n",
    "\n",
    "im1=cv2.imread(\"C:/Users/User/Downloads/sun.jpg\",1)\n",
    "im2=cv2.imread(\"C:/Users/User/Downloads/moon2.jpg\",1)\n",
    "\n",
    "im=cv2.addWeighted(im1,0.5,im2,0.6,0)\n",
    "cv2.imshow(\"im\",im)\n",
    "cv2.waitKey(0)\n",
    "cv2.destroyAllWindows()"
   ]
  },
  {
   "cell_type": "code",
   "execution_count": 69,
   "id": "c1ad6ecf",
   "metadata": {},
   "outputs": [],
   "source": [
    "import cv2\n",
    "\n",
    "im1=cv2.imread(\"C:/Users/User/Downloads/sun.jpg\",1)\n",
    "im2=cv2.imread(\"C:/Users/User/Downloads/moon2.jpg\",1)\n",
    "\n",
    "im=cv2.addWeighted(im1,0.5,im1,0.2,0)\n",
    "cv2.imshow(\"im\",im)\n",
    "cv2.waitKey(0)\n",
    "cv2.destroyAllWindows()"
   ]
  },
  {
   "cell_type": "code",
   "execution_count": null,
   "id": "5fc2c6de",
   "metadata": {},
   "outputs": [],
   "source": []
  }
 ],
 "metadata": {
  "kernelspec": {
   "display_name": "Python 3 (ipykernel)",
   "language": "python",
   "name": "python3"
  },
  "language_info": {
   "codemirror_mode": {
    "name": "ipython",
    "version": 3
   },
   "file_extension": ".py",
   "mimetype": "text/x-python",
   "name": "python",
   "nbconvert_exporter": "python",
   "pygments_lexer": "ipython3",
   "version": "3.9.7"
  }
 },
 "nbformat": 4,
 "nbformat_minor": 5
}
