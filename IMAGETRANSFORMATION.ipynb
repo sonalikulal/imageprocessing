{
 "cells": [
  {
   "cell_type": "code",
   "execution_count": 22,
   "id": "45c75410",
   "metadata": {},
   "outputs": [],
   "source": [
    "import numpy as np\n",
    "import cv2 as cv\n",
    "img = cv.imread('C:/Users/User/Downloads/avocado.jpg', 0)\n",
    "rows, cols = img.shape\n",
    "M = np.float32([[1, 0, 100], [0, 1, 50]])\n",
    "dst = cv.warpAffine(img, M, (cols, rows))\n",
    "cv.imshow('img', dst)\n",
    "cv.waitKey(0)\n",
    "cv.destroyAllWindows()\n"
   ]
  },
  {
   "cell_type": "code",
   "execution_count": 23,
   "id": "8ccf12d0",
   "metadata": {},
   "outputs": [],
   "source": [
    "#REFLECTION\n",
    "import numpy as np\n",
    "import cv2 as cv\n",
    "img = cv.imread('C:/Users/User/Downloads/avocado.jpg', 0)\n",
    "rows, cols = img.shape\n",
    "M = np.float32([[1, 0, 0],\n",
    "\t\t\t\t[0, -1, rows],\n",
    "\t\t\t\t[0, 0, 1]])\n",
    "reflected_img = cv.warpPerspective(img, M,\n",
    "\t\t\t\t\t\t\t\t(int(cols),\n",
    "\t\t\t\t\t\t\t\t\tint(rows)))\n",
    "cv.imshow('img', reflected_img)\n",
    "cv.imwrite('reflection_out.jpg', reflected_img)\n",
    "cv.waitKey(0)\n",
    "cv.destroyAllWindows()\n"
   ]
  },
  {
   "cell_type": "code",
   "execution_count": 28,
   "id": "3fea838e",
   "metadata": {},
   "outputs": [],
   "source": [
    "#ROTATION\n",
    "import numpy as np\n",
    "import cv2 as cv\n",
    "img = cv.imread('C:/Users/User/Downloads/avocado.jpg', 0)\n",
    "rows, cols = img.shape\n",
    "M = np.float32([[1, 0, 0], [0, -1, rows], [0, 0, 1]])\n",
    "img_rotation = cv.warpAffine(img,\n",
    "\t\t\t\t\t\t\tcv.getRotationMatrix2D((cols/2, rows/2),\n",
    "\t\t\t\t\t\t\t\t\t\t\t\t\t30, 0.6),\n",
    "\t\t\t\t\t\t\t(cols, rows))\n",
    "cv.imshow('img', img_rotation)\n",
    "cv.imwrite('rotation_out.jpg', img_rotation)\n",
    "cv.waitKey(0)\n",
    "cv.destroyAllWindows()\n"
   ]
  },
  {
   "cell_type": "code",
   "execution_count": 30,
   "id": "f35d2f12",
   "metadata": {},
   "outputs": [],
   "source": [
    "#SCALING\n",
    "import numpy as np\n",
    "import cv2 as cv\n",
    "img = cv.imread('C:/Users/User/Downloads/avocado.jpg', 0)\n",
    "rows, cols = img.shape\n",
    "img_shrinked = cv.resize(img, (250, 200),\n",
    "\t\t\t\t\t\tinterpolation=cv.INTER_AREA)\n",
    "cv.imshow('img', img_shrinked)\n",
    "img_enlarged = cv.resize(img_shrinked, None,\n",
    "\t\t\t\t\t\tfx=1.5, fy=1.5,\n",
    "\t\t\t\t\t\tinterpolation=cv.INTER_CUBIC)\n",
    "cv.imshow('img', img_enlarged)\n",
    "cv.waitKey(0)\n",
    "cv.destroyAllWindows()\n"
   ]
  },
  {
   "cell_type": "code",
   "execution_count": 26,
   "id": "b407acb7",
   "metadata": {},
   "outputs": [],
   "source": []
  },
  {
   "cell_type": "code",
   "execution_count": null,
   "id": "3b1c5b82",
   "metadata": {},
   "outputs": [],
   "source": []
  },
  {
   "cell_type": "code",
   "execution_count": null,
   "id": "eac5ed3a",
   "metadata": {},
   "outputs": [],
   "source": []
  }
 ],
 "metadata": {
  "kernelspec": {
   "display_name": "Python 3 (ipykernel)",
   "language": "python",
   "name": "python3"
  },
  "language_info": {
   "codemirror_mode": {
    "name": "ipython",
    "version": 3
   },
   "file_extension": ".py",
   "mimetype": "text/x-python",
   "name": "python",
   "nbconvert_exporter": "python",
   "pygments_lexer": "ipython3",
   "version": "3.9.7"
  }
 },
 "nbformat": 4,
 "nbformat_minor": 5
}
