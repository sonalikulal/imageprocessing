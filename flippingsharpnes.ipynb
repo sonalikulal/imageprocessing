{
 "cells": [
  {
   "cell_type": "code",
   "execution_count": 20,
   "id": "676aefe5",
   "metadata": {},
   "outputs": [
    {
     "data": {
      "text/plain": [
       "-1"
      ]
     },
     "execution_count": 20,
     "metadata": {},
     "output_type": "execute_result"
    }
   ],
   "source": [
    "#flipping\n",
    "import cv2\n",
    "img=cv2.imread(\"doll.jpg\")\n",
    "image=cv2.flip(img,0)\n",
    "image2=cv2.flip(img,1)\n",
    "image3=cv2.flip(img,-1)\n",
    "cv2.imshow(\"Original image\",img)\n",
    "cv2.imshow(\"flipped image vertically\",image)\n",
    "cv2.imshow(\"flipped image horizontally\",image2)\n",
    "cv2.imshow(\"flipped image\",image3)\n",
    "cv2.waitKey(0)"
   ]
  },
  {
   "cell_type": "code",
   "execution_count": 2,
   "id": "e1b9d31f",
   "metadata": {},
   "outputs": [
    {
     "data": {
      "text/plain": [
       "-1"
      ]
     },
     "execution_count": 2,
     "metadata": {},
     "output_type": "execute_result"
    }
   ],
   "source": [
    "#flipping\n",
    "import cv2\n",
    "img=cv2.imread(\"doll.jpg\")\n",
    "image=cv2.flip(img,1)\n",
    "cv2.imshow(\"Original image\",img)\n",
    "cv2.imshow(\"flipped image vertically\",image)\n",
    "cv2.waitKey(0)"
   ]
  },
  {
   "cell_type": "code",
   "execution_count": 19,
   "id": "e44efe76",
   "metadata": {},
   "outputs": [],
   "source": [
    "import cv2\n",
    "import numpy as np\n",
    "image=cv2.imread('doll.jpg')\n",
    "kernal=np.array([[-1,-1,-1],[-1,9,-1],[-1,-1,-1]])\n",
    "sharpened=cv2.filter2D(image,-1,kernal)\n",
    "cv2.imshow('sharpened.jpg',sharpened)\n",
    "cv2.waitKey(0)\n",
    "cv2.destroyAllWindows()"
   ]
  }
 ],
 "metadata": {
  "kernelspec": {
   "display_name": "Python 3 (ipykernel)",
   "language": "python",
   "name": "python3"
  },
  "language_info": {
   "codemirror_mode": {
    "name": "ipython",
    "version": 3
   },
   "file_extension": ".py",
   "mimetype": "text/x-python",
   "name": "python",
   "nbconvert_exporter": "python",
   "pygments_lexer": "ipython3",
   "version": "3.9.7"
  }
 },
 "nbformat": 4,
 "nbformat_minor": 5
}
