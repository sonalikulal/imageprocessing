{
 "cells": [
  {
   "cell_type": "code",
   "execution_count": 8,
   "id": "08672846",
   "metadata": {},
   "outputs": [
    {
     "name": "stdout",
     "output_type": "stream",
     "text": [
      "Number of Contours found = 11\n"
     ]
    }
   ],
   "source": [
    "import cv2\n",
    "import numpy as np\n",
    "import matplotlib.pyplot as plt\n",
    "\n",
    "# Let's load a simple image with 3 black squares\n",
    "image = cv2.imread('llogo.png')\n",
    "cv2.waitKey(0)\n",
    "\n",
    "# Grayscale\n",
    "gray = cv2.cvtColor(image, cv2.COLOR_BGR2GRAY)\n",
    "\n",
    "# Find Canny edges\n",
    "edged = cv2.Canny(gray, 30, 200)\n",
    "cv2.waitKey(0)\n",
    "\n",
    "# Finding Contours\n",
    "# Use a copy of the image e.g. edged.copy()\n",
    "# since findContours alters the image\n",
    "contours, hierarchy = cv2.findContours(edged,\n",
    "\tcv2.RETR_EXTERNAL, cv2.CHAIN_APPROX_NONE)\n",
    "\n",
    "cv2.imshow('Canny Edges After Contouring', edged)\n",
    "cv2.waitKey(0)\n",
    "\n",
    "print(\"Number of Contours found = \" + str(len(contours)))\n",
    "\n",
    "# Draw all contours\n",
    "# -1 signifies drawing all contours\n",
    "cv2.drawContours(image, contours, -1, (0, 255, 255), 3)\n",
    "\n",
    "cv2.imshow('Contours', image)\n",
    "cv2.waitKey(0)\n",
    "cv2.destroyAllWindows()\n"
   ]
  },
  {
   "cell_type": "code",
   "execution_count": 4,
   "id": "8f3969ee",
   "metadata": {},
   "outputs": [],
   "source": [
    "import cv2\n",
    "import numpy as np\n",
    "\n",
    "img = cv2.imread('llogo.png', cv2.IMREAD_UNCHANGED)\n",
    "\n",
    "#convert img to grey\n",
    "img_grey = cv2.cvtColor(img,cv2.COLOR_BGR2GRAY)\n",
    "#set a thresh\n",
    "thresh = 100\n",
    "#get threshold image\n",
    "ret,thresh_img = cv2.threshold(img_grey, thresh, 255, cv2.THRESH_BINARY)\n",
    "#find contours\n",
    "contours, hierarchy = cv2.findContours(thresh_img, cv2.RETR_TREE, cv2.CHAIN_APPROX_SIMPLE)\n",
    "\n",
    "#create an empty image for contours\n",
    "img_contours = np.zeros(img.shape)\n",
    "# draw the contours on the empty image\n",
    "cv2.drawContours(img_contours, contours, -1, (0,255,0), 3)\n",
    "#save image\n",
    "cv2.imshow('image',img_contours) \n",
    "cv2.waitKey(0)\n",
    "cv2.destroyAllWindows()\n"
   ]
  },
  {
   "cell_type": "code",
   "execution_count": 51,
   "id": "be2ae2a8",
   "metadata": {},
   "outputs": [],
   "source": [
    "import numpy as np\n",
    "import cv2 as cv\n",
    "\n",
    "im = cv.imread('C:/Users/User/Downloads/mountain.jpg')\n",
    "assert im is not None, \"file could not be read, check with os.path.exists()\"\n",
    "\n",
    "imgray = cv.cvtColor(im, cv.COLOR_BGR2GRAY)\n",
    "ret, thresh = cv.threshold(imgray, 100, 255, 0)\n",
    "\n",
    "# Assuming you want to draw contours on the original image (im) and not on the thresholded image (im2)\n",
    "contours, hierarchy = cv.findContours(thresh, cv.RETR_TREE, cv.CHAIN_APPROX_SIMPLE)\n",
    "\n",
    "# Draw the contours on the original image\n",
    "cv.drawContours(im, contours, -1, (0, 255, 0), 3)\n",
    "\n",
    "cv.imshow('image', im)\n",
    "cv.waitKey(0)\n",
    "cv.destroyAllWindows()\n"
   ]
  },
  {
   "cell_type": "code",
   "execution_count": null,
   "id": "65e82182",
   "metadata": {},
   "outputs": [],
   "source": []
  }
 ],
 "metadata": {
  "kernelspec": {
   "display_name": "Python 3 (ipykernel)",
   "language": "python",
   "name": "python3"
  },
  "language_info": {
   "codemirror_mode": {
    "name": "ipython",
    "version": 3
   },
   "file_extension": ".py",
   "mimetype": "text/x-python",
   "name": "python",
   "nbconvert_exporter": "python",
   "pygments_lexer": "ipython3",
   "version": "3.9.7"
  }
 },
 "nbformat": 4,
 "nbformat_minor": 5
}
