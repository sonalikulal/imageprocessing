{
 "cells": [
  {
   "cell_type": "code",
   "execution_count": 6,
   "id": "7166ce7f",
   "metadata": {},
   "outputs": [],
   "source": [
    "#Drawing on an image\n",
    "\n",
    "import numpy as np\n",
    "import cv2\n",
    "img =cv2.imread('cat.jpg')\n",
    "cv2.line(img, (600, 160), (100, 160), (0, 0, 255), 10)\n",
    "cv2.rectangle(img,(700,800), (20,50),(0,255,255),2)\n",
    "cv2.circle(img, (600,500), 55, (255,0,0), -1)\n",
    "cv2.imshow('drawing an image', img)\n",
    "cv2.waitKey(0)\n",
    "cv2.destroyAllWindows()"
   ]
  }
 ],
 "metadata": {
  "kernelspec": {
   "display_name": "Python 3 (ipykernel)",
   "language": "python",
   "name": "python3"
  },
  "language_info": {
   "codemirror_mode": {
    "name": "ipython",
    "version": 3
   },
   "file_extension": ".py",
   "mimetype": "text/x-python",
   "name": "python",
   "nbconvert_exporter": "python",
   "pygments_lexer": "ipython3",
   "version": "3.9.7"
  }
 },
 "nbformat": 4,
 "nbformat_minor": 5
}
